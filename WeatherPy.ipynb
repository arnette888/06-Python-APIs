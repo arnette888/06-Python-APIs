{
 "cells": [
  {
   "cell_type": "markdown",
   "metadata": {},
   "source": [
    "### WeatherPy\n",
    "----\n",
    "\n",
    "#### Note\n",
    "* Instructions have been included for each segment. You do not have to follow them exactly, but they are included to help you think through the steps."
   ]
  },
  {
   "cell_type": "code",
   "execution_count": 2,
   "metadata": {
    "scrolled": true
   },
   "outputs": [],
   "source": [
    "# Dependencies and Setup\n",
    "import matplotlib.pyplot as plt\n",
    "import pandas as pd\n",
    "import numpy as np\n",
    "import requests\n",
    "import time\n",
    "from scipy.stats import linregress\n",
    "\n",
    "# Import API key\n",
    "from api_keys import weather_api_key\n",
    "\n",
    "# Incorporated citipy to determine city based on latitude and longitude\n",
    "from citipy import citipy\n",
    "\n",
    "# Output File (CSV)\n",
    "output_data_file = \"output_data/cities.csv\"\n",
    "\n",
    "# Range of latitudes and longitudes\n",
    "lat_range = (-90, 90)\n",
    "lng_range = (-180, 180)"
   ]
  },
  {
   "cell_type": "markdown",
   "metadata": {},
   "source": [
    "## Generate Cities List"
   ]
  },
  {
   "cell_type": "code",
   "execution_count": 3,
   "metadata": {},
   "outputs": [
    {
     "data": {
      "text/plain": [
       "617"
      ]
     },
     "execution_count": 3,
     "metadata": {},
     "output_type": "execute_result"
    }
   ],
   "source": [
    "# List for holding lat_lngs and cities\n",
    "lat_lngs = []\n",
    "cities = []\n",
    "\n",
    "# Create a set of random lat and lng combinations\n",
    "lats = np.random.uniform(lat_range[0], lat_range[1], size=1500)\n",
    "lngs = np.random.uniform(lng_range[0], lng_range[1], size=1500)\n",
    "lat_lngs = zip(lats, lngs)\n",
    "\n",
    "# Identify nearest city for each lat, lng combination\n",
    "for lat_lng in lat_lngs:\n",
    "    city = citipy.nearest_city(lat_lng[0], lat_lng[1]).city_name\n",
    "    \n",
    "    # If the city is unique, then add it to a our cities list\n",
    "    if city not in cities:\n",
    "        cities.append(city)\n",
    "\n",
    "# Print the city count to confirm sufficient count\n",
    "len(cities)"
   ]
  },
  {
   "cell_type": "markdown",
   "metadata": {},
   "source": [
    "### Perform API Calls\n",
    "* Perform a weather check on each city using a series of successive API calls.\n",
    "* Include a print log of each city as it'sbeing processed (with the city number and city name).\n"
   ]
  },
  {
   "cell_type": "code",
   "execution_count": 4,
   "metadata": {},
   "outputs": [
    {
     "name": "stdout",
     "output_type": "stream",
     "text": [
      "City 1 = amderma\n",
      "No city found.\n",
      "City 2 = qaanaaq\n",
      "City 3 = mahebourg\n",
      "City 4 = kurilsk\n",
      "City 5 = bang yai\n",
      "City 6 = champerico\n",
      "City 7 = toliary\n",
      "No city found.\n",
      "City 8 = pevek\n",
      "City 9 = rikitea\n",
      "City 10 = bukachacha\n",
      "City 11 = waddan\n",
      "City 12 = tuatapere\n",
      "City 13 = ushuaia\n",
      "City 14 = taolanaro\n",
      "No city found.\n",
      "City 15 = cockburn town\n",
      "City 16 = mnogovershinnyy\n",
      "City 17 = albany\n",
      "City 18 = hilo\n",
      "City 19 = busselton\n",
      "City 20 = new norfolk\n",
      "City 21 = hobart\n",
      "City 22 = bosaso\n",
      "City 23 = cherskiy\n",
      "City 24 = morondava\n",
      "City 25 = vaini\n",
      "City 26 = santo angelo\n",
      "City 27 = punta arenas\n",
      "City 28 = grand gaube\n",
      "City 29 = cabo san lucas\n",
      "City 30 = bredasdorp\n",
      "City 31 = mataura\n",
      "City 32 = castro\n",
      "City 33 = santa cruz\n",
      "City 34 = aasiaat\n",
      "City 35 = shimoda\n",
      "City 36 = pisco\n",
      "City 37 = iqaluit\n",
      "City 38 = savelugu\n",
      "City 39 = attawapiskat\n",
      "No city found.\n",
      "City 40 = yellowknife\n",
      "City 41 = tiksi\n",
      "City 42 = ambon\n",
      "City 43 = gamboma\n",
      "City 44 = comodoro rivadavia\n",
      "City 45 = west bay\n",
      "City 46 = rawson\n",
      "City 47 = bethel\n",
      "City 48 = alihe\n",
      "City 49 = kandrian\n",
      "City 50 = hasaki\n",
      "City 51 = hami\n",
      "City 52 = alice springs\n",
      "City 53 = mergui\n",
      "No city found.\n",
      "City 54 = jamestown\n",
      "City 55 = bluff\n",
      "City 56 = royan\n",
      "City 57 = eirunepe\n",
      "City 58 = arraial do cabo\n",
      "City 59 = kununurra\n",
      "City 60 = krasnoselkup\n",
      "City 61 = tabiauea\n",
      "No city found.\n",
      "City 62 = puerto ayora\n",
      "City 63 = faanui\n",
      "City 64 = cidreira\n",
      "City 65 = rio grande\n",
      "City 66 = port blair\n",
      "City 67 = visby\n",
      "City 68 = rodrigues alves\n",
      "City 69 = thunder bay\n",
      "City 70 = port alfred\n",
      "City 71 = zyryanskoye\n",
      "City 72 = dwarka\n",
      "City 73 = raposa\n",
      "City 74 = sechura\n",
      "City 75 = carnarvon\n",
      "City 76 = terney\n",
      "City 77 = taoudenni\n",
      "City 78 = tigil\n",
      "City 79 = kudahuvadhoo\n",
      "City 80 = barentsburg\n",
      "No city found.\n",
      "City 81 = mwinilunga\n",
      "City 82 = la ronge\n",
      "City 83 = mus\n",
      "City 84 = cape town\n",
      "City 85 = malanville\n",
      "City 86 = soe\n",
      "City 87 = kapaa\n",
      "City 88 = hvolsvollur\n",
      "City 89 = vanimo\n",
      "City 90 = daru\n",
      "City 91 = codrington\n",
      "City 92 = hithadhoo\n",
      "City 93 = roald\n",
      "City 94 = yingzhong\n",
      "No city found.\n",
      "City 95 = waipawa\n",
      "City 96 = dikson\n",
      "City 97 = port elizabeth\n",
      "City 98 = posse\n",
      "City 99 = neuquen\n",
      "City 100 = catuday\n",
      "City 101 = tuktoyaktuk\n",
      "City 102 = avarua\n",
      "City 103 = tasiilaq\n",
      "City 104 = cumaribo\n",
      "No city found.\n",
      "City 105 = geraldton\n",
      "City 106 = colesberg\n",
      "City 107 = bambous virieux\n",
      "City 108 = mys shmidta\n",
      "No city found.\n",
      "City 109 = armizonskoye\n",
      "City 110 = utiroa\n",
      "No city found.\n",
      "City 111 = georgetown\n",
      "City 112 = chokurdakh\n",
      "City 113 = hof\n",
      "City 114 = katobu\n",
      "City 115 = talnakh\n",
      "City 116 = port augusta\n",
      "City 117 = haines junction\n",
      "City 118 = sukhaya buyvola\n",
      "City 119 = lata\n",
      "City 120 = caucasia\n",
      "City 121 = sorland\n",
      "City 122 = port hedland\n",
      "City 123 = parys\n",
      "City 124 = mehamn\n",
      "City 125 = kazalinsk\n",
      "No city found.\n",
      "City 126 = mlonggo\n",
      "City 127 = batemans bay\n",
      "City 128 = aykhal\n",
      "City 129 = necochea\n",
      "City 130 = ouesso\n",
      "City 131 = ancud\n",
      "City 132 = oktyabrskiy\n",
      "City 133 = cayenne\n",
      "City 134 = chateaubelair\n",
      "City 135 = kodiak\n",
      "City 136 = chagda\n",
      "No city found.\n",
      "City 137 = safwah\n",
      "No city found.\n",
      "City 138 = husavik\n",
      "City 139 = belushya guba\n",
      "No city found.\n",
      "City 140 = tonaya\n",
      "City 141 = ilulissat\n",
      "City 142 = svetlyy\n",
      "City 143 = isangel\n",
      "City 144 = kavaratti\n",
      "City 145 = palmer\n",
      "City 146 = norman wells\n",
      "City 147 = fukue\n",
      "City 148 = ust-maya\n",
      "City 149 = pundaguitan\n",
      "City 150 = itaituba\n",
      "City 151 = hermanus\n",
      "City 152 = warrnambool\n",
      "City 153 = ixtapa\n",
      "City 154 = thompson\n",
      "City 155 = provideniya\n",
      "City 156 = saint george\n",
      "City 157 = praia\n",
      "City 158 = plouzane\n",
      "City 159 = myitkyina\n",
      "City 160 = kavieng\n",
      "City 161 = torbay\n",
      "City 162 = le port\n",
      "City 163 = mayumba\n",
      "City 164 = sitka\n",
      "City 165 = agnibilekrou\n",
      "City 166 = bengkulu\n",
      "City 167 = covina\n",
      "City 168 = vostok\n",
      "City 169 = nome\n",
      "City 170 = tarpon springs\n",
      "City 171 = harper\n",
      "City 172 = zheleznodorozhnyy\n",
      "City 173 = umzimvubu\n",
      "No city found.\n",
      "City 174 = saleaula\n",
      "No city found.\n",
      "City 175 = butaritari\n",
      "City 176 = narsaq\n",
      "City 177 = ponta delgada\n",
      "City 178 = oussouye\n",
      "City 179 = lebu\n",
      "City 180 = san patricio\n",
      "City 181 = chunskiy\n",
      "City 182 = okha\n",
      "City 183 = salta\n",
      "City 184 = longyearbyen\n",
      "City 185 = igarka\n",
      "City 186 = hengshui\n",
      "City 187 = sanmenxia\n",
      "City 188 = samusu\n",
      "No city found.\n",
      "City 189 = berlevag\n",
      "City 190 = beloha\n",
      "City 191 = luwuk\n",
      "City 192 = alotau\n",
      "No city found.\n",
      "City 193 = kargasok\n",
      "City 194 = airai\n",
      "City 195 = anori\n",
      "City 196 = yebaishou\n",
      "City 197 = rio verde de mato grosso\n",
      "City 198 = palabuhanratu\n",
      "No city found.\n",
      "City 199 = huilong\n",
      "City 200 = alofi\n",
      "City 201 = dravograd\n",
      "City 202 = melfort\n",
      "City 203 = millinocket\n",
      "City 204 = aljezur\n",
      "City 205 = tumannyy\n",
      "No city found.\n",
      "City 206 = jinxiang\n",
      "City 207 = adrar\n",
      "City 208 = waseca\n",
      "City 209 = east london\n",
      "City 210 = clyde river\n",
      "City 211 = atuona\n",
      "City 212 = yaan\n",
      "City 213 = grand river south east\n",
      "No city found.\n",
      "City 214 = bathsheba\n",
      "City 215 = goderich\n",
      "City 216 = vao\n",
      "City 217 = sao filipe\n",
      "City 218 = arica\n",
      "City 219 = macapa\n",
      "City 220 = kaitangata\n",
      "City 221 = port lincoln\n",
      "City 222 = yar-sale\n",
      "City 223 = daphne\n",
      "City 224 = upernavik\n",
      "City 225 = raudeberg\n",
      "City 226 = san quintin\n",
      "City 227 = manaure\n",
      "City 228 = mar del plata\n",
      "City 229 = kuala pilah\n",
      "City 230 = esperance\n",
      "City 231 = grindavik\n",
      "City 232 = beringovskiy\n",
      "City 233 = plastun\n",
      "City 234 = jacksonville\n",
      "City 235 = beisfjord\n",
      "City 236 = nuuk\n",
      "City 237 = wanning\n",
      "City 238 = nicolas bravo\n",
      "City 239 = nikolskoye\n",
      "City 240 = ribeira grande\n",
      "City 241 = halalo\n",
      "No city found.\n",
      "City 242 = leningradskiy\n",
      "City 243 = dangriga\n",
      "City 244 = tsihombe\n",
      "No city found.\n",
      "City 245 = oranjestad\n",
      "City 246 = rocha\n",
      "City 247 = dalby\n",
      "City 248 = paamiut\n",
      "City 249 = neustadt\n",
      "City 250 = pontes e lacerda\n",
      "City 251 = san blas\n",
      "City 252 = novaya lyalya\n",
      "City 253 = dingle\n",
      "City 254 = saint-marc-des-carrieres\n",
      "City 255 = barrow\n",
      "City 256 = riyadh\n",
      "City 257 = sao jose da coroa grande\n",
      "City 258 = lumsden\n",
      "City 259 = coolum beach\n",
      "City 260 = sentyabrskiy\n",
      "No city found.\n",
      "City 261 = santo domingo\n",
      "City 262 = sume\n",
      "City 263 = odweyne\n",
      "City 264 = surazh\n",
      "City 265 = piranhas\n",
      "City 266 = aflu\n",
      "No city found.\n",
      "City 267 = primorsk\n",
      "City 268 = lavrentiya\n",
      "City 269 = mari\n",
      "City 270 = saint-philippe\n",
      "City 271 = kibaya\n",
      "City 272 = lufilufi\n",
      "City 273 = coffs harbour\n",
      "City 274 = labuhan\n",
      "City 275 = victoria\n",
      "City 276 = yarmouth\n",
      "City 277 = olafsvik\n",
      "City 278 = san joaquin\n",
      "City 279 = kamenskoye\n",
      "No city found.\n",
      "City 280 = areosa\n",
      "City 281 = ginir\n",
      "City 282 = tateyama\n",
      "City 283 = san cristobal\n",
      "City 284 = makat\n",
      "City 285 = cruzeiro do sul\n",
      "City 286 = coihaique\n",
      "City 287 = buchanan\n",
      "City 288 = qobustan\n",
      "City 289 = bairiki\n",
      "City 290 = margate\n",
      "City 291 = kamenka\n",
      "City 292 = mount darwin\n",
      "City 293 = chuy\n",
      "City 294 = mana\n",
      "City 295 = mangai\n",
      "City 296 = chihuahua\n",
      "City 297 = vanavara\n",
      "City 298 = saint-augustin\n",
      "City 299 = ahtopol\n",
      "City 300 = gorom-gorom\n",
      "City 301 = masuda\n",
      "City 302 = mikhaylovka\n",
      "City 303 = johi\n",
      "City 304 = khipro\n",
      "City 305 = nizhneyansk\n",
      "No city found.\n",
      "City 306 = kasongo-lunda\n",
      "City 307 = karasjok\n",
      "City 308 = shenjiamen\n",
      "City 309 = kachiry\n",
      "City 310 = piacabucu\n",
      "City 311 = vila velha\n",
      "City 312 = ugoofaaru\n",
      "City 313 = yambio\n",
      "City 314 = baghdad\n",
      "City 315 = beira\n",
      "City 316 = vila franca do campo\n",
      "City 317 = ostrovnoy\n",
      "City 318 = havre-saint-pierre\n",
      "City 319 = albanel\n",
      "City 320 = xai-xai\n",
      "City 321 = severo-kurilsk\n",
      "City 322 = huarmey\n",
      "City 323 = naftah\n",
      "No city found.\n",
      "City 324 = kieta\n",
      "City 325 = ponta do sol\n",
      "City 326 = san luis\n",
      "City 327 = costa rica\n",
      "City 328 = bandarbeyla\n",
      "City 329 = mrirt\n",
      "No city found.\n",
      "City 330 = flinders\n",
      "City 331 = vila\n",
      "City 332 = yegros\n",
      "City 333 = amalapuram\n",
      "City 334 = illoqqortoormiut\n",
      "No city found.\n",
      "City 335 = katherine\n",
      "City 336 = srednekolymsk\n",
      "City 337 = port hardy\n",
      "City 338 = moron\n",
      "City 339 = sri aman\n",
      "City 340 = faya\n",
      "City 341 = paita\n",
      "City 342 = chiredzi\n",
      "City 343 = sibenik\n",
      "City 344 = la asuncion\n",
      "City 345 = karakendzha\n",
      "No city found.\n",
      "City 346 = khatanga\n",
      "City 347 = buenos aires\n",
      "City 348 = claveria\n",
      "City 349 = liverpool\n",
      "City 350 = jacqueville\n",
      "City 351 = ibra\n",
      "City 352 = turayf\n",
      "City 353 = hunchun\n",
      "City 354 = bagdarin\n",
      "City 355 = pahrump\n",
      "City 356 = salalah\n",
      "City 357 = puerto escondido\n",
      "City 358 = mouzakion\n",
      "No city found.\n",
      "City 359 = okhotsk\n",
      "City 360 = concordia\n",
      "City 361 = deputatskiy\n",
      "City 362 = barra patuca\n",
      "City 363 = shingu\n",
      "City 364 = sinnamary\n",
      "City 365 = nchelenge\n",
      "City 366 = sao joao da barra\n",
      "City 367 = pringsewu\n",
      "City 368 = bucerias\n",
      "City 369 = qaqortoq\n",
      "City 370 = guerrero negro\n",
      "City 371 = tura\n",
      "City 372 = huanren\n",
      "City 373 = pangnirtung\n",
      "City 374 = kasulu\n",
      "City 375 = haibowan\n",
      "No city found.\n",
      "City 376 = berdigestyakh\n",
      "City 377 = coquimbo\n",
      "City 378 = chitipa\n",
      "City 379 = butembo\n",
      "City 380 = varena\n",
      "City 381 = dong hoi\n",
      "City 382 = aklavik\n",
      "City 383 = doctor pedro p. pena\n",
      "No city found.\n",
      "City 384 = los llanos de aridane\n",
      "City 385 = ketchikan\n",
      "City 386 = nanortalik\n",
      "City 387 = birjand\n",
      "City 388 = punta gorda\n",
      "City 389 = gulfport\n",
      "City 390 = abalak\n",
      "City 391 = mongo\n",
      "City 392 = taksimo\n",
      "City 393 = korla\n",
      "City 394 = namatanai\n",
      "City 395 = aksarka\n",
      "City 396 = kupang\n",
      "City 397 = bilibino\n",
      "City 398 = mwingi\n",
      "City 399 = molodizhne\n",
      "City 400 = lorengau\n",
      "City 401 = ulaangom\n",
      "City 402 = boa vista\n",
      "City 403 = nuevitas\n",
      "City 404 = ilam\n",
      "City 405 = tevriz\n",
      "City 406 = lagoa\n",
      "City 407 = nara\n",
      "City 408 = moanda\n",
      "City 409 = uglegorsk\n",
      "City 410 = saldanha\n",
      "City 411 = panormos\n",
      "City 412 = krasnyy chikoy\n",
      "City 413 = tukrah\n",
      "City 414 = guadalupe victoria\n",
      "City 415 = luderitz\n",
      "City 416 = meulaboh\n",
      "City 417 = puerto del rosario\n",
      "City 418 = mount isa\n",
      "City 419 = linxia\n",
      "City 420 = chapayevka\n",
      "City 421 = pangody\n",
      "City 422 = gat\n",
      "City 423 = asyut\n",
      "City 424 = vagur\n",
      "City 425 = kahului\n",
      "City 426 = fort nelson\n",
      "City 427 = fort saint john\n",
      "No city found.\n",
      "City 428 = shakawe\n",
      "City 429 = gulshat\n",
      "No city found.\n",
      "City 430 = wamba\n",
      "City 431 = kita\n",
      "City 432 = saint-joseph\n",
      "City 433 = mingaora\n",
      "City 434 = worland\n",
      "City 435 = mersing\n",
      "City 436 = orlik\n",
      "City 437 = susangerd\n",
      "City 438 = jiuquan\n",
      "City 439 = sisimiut\n",
      "City 440 = malwan\n",
      "No city found.\n",
      "City 441 = khatra\n",
      "City 442 = townsville\n",
      "City 443 = huangmei\n",
      "City 444 = zyryanka\n",
      "City 445 = constitucion\n",
      "City 446 = mandalgovi\n",
      "City 447 = winneba\n",
      "City 448 = half moon bay\n",
      "City 449 = port-cartier\n",
      "City 450 = anakapalle\n",
      "City 451 = griffith\n",
      "City 452 = cururupu\n",
      "City 453 = mabaruma\n",
      "City 454 = gweta\n",
      "City 455 = gibraleon\n",
      "City 456 = haldia\n",
      "City 457 = evensk\n",
      "City 458 = ngukurr\n",
      "No city found.\n",
      "City 459 = burgersdorp\n",
      "City 460 = skegness\n",
      "City 461 = limbang\n",
      "City 462 = arman\n",
      "City 463 = fortuna\n",
      "City 464 = kouloura\n",
      "City 465 = penzance\n",
      "City 466 = arlit\n",
      "City 467 = ajdabiya\n",
      "City 468 = soyo\n",
      "City 469 = imeni poliny osipenko\n",
      "City 470 = namtsy\n",
      "City 471 = pitkyaranta\n",
      "City 472 = rundu\n",
      "City 473 = divnogorsk\n",
      "City 474 = chicama\n",
      "City 475 = gillette\n",
      "City 476 = villa bruzual\n",
      "City 477 = kemin\n",
      "City 478 = khasan\n",
      "City 479 = balaipungut\n",
      "City 480 = college\n",
      "City 481 = pasighat\n",
      "City 482 = chilca\n",
      "City 483 = acapulco\n",
      "City 484 = sobolevo\n",
      "City 485 = tuim\n",
      "City 486 = omboue\n",
      "City 487 = presidente medici\n",
      "City 488 = bin qirdan\n",
      "City 489 = itarema\n",
      "City 490 = san carlos de bariloche\n",
      "City 491 = kvareli\n",
      "City 492 = mount gambier\n",
      "City 493 = eyl\n",
      "City 494 = gwanda\n",
      "City 495 = kapuskasing\n",
      "City 496 = dunedin\n",
      "City 497 = biak\n",
      "City 498 = karamea\n",
      "No city found.\n",
      "City 499 = ciudad bolivar\n",
      "City 500 = novouzensk\n",
      "City 501 = saint anthony\n",
      "City 502 = asau\n",
      "City 503 = bolshoye sorokino\n",
      "No city found.\n",
      "City 504 = brae\n",
      "City 505 = monrovia\n",
      "City 506 = zmievka\n",
      "No city found.\n",
      "City 507 = charlestown\n",
      "City 508 = abu zabad\n",
      "City 509 = saskylakh\n",
      "City 510 = tharad\n",
      "City 511 = ayan\n",
      "City 512 = kayalpattinam\n",
      "City 513 = namibe\n",
      "City 514 = west plains\n",
      "City 515 = hella\n",
      "City 516 = komsomolskiy\n",
      "City 517 = tasbuget\n",
      "No city found.\n",
      "City 518 = yarada\n",
      "City 519 = naze\n",
      "City 520 = nantucket\n",
      "City 521 = baykit\n",
      "City 522 = ahipara\n",
      "City 523 = amga\n",
      "City 524 = kaka\n",
      "City 525 = mocuba\n",
      "City 526 = marsabit\n",
      "City 527 = devils lake\n",
      "City 528 = nirmal\n",
      "City 529 = amapa\n",
      "City 530 = souillac\n",
      "City 531 = pavlovsk\n",
      "City 532 = saint-pierre\n",
      "City 533 = port-gentil\n",
      "City 534 = miles city\n",
      "City 535 = vestmanna\n",
      "City 536 = ambilobe\n",
      "City 537 = latung\n",
      "City 538 = borovskoy\n",
      "City 539 = izhma\n",
      "City 540 = aswan\n",
      "City 541 = marsa matruh\n",
      "City 542 = cabedelo\n",
      "City 543 = sabang\n",
      "City 544 = nao-me-toque\n",
      "No city found.\n",
      "City 545 = walvis bay\n",
      "City 546 = zeya\n",
      "City 547 = jinchang\n",
      "City 548 = marcona\n",
      "No city found.\n",
      "City 549 = byron bay\n",
      "City 550 = nanakuli\n",
      "City 551 = sitio novo do tocantins\n",
      "City 552 = barcelona\n",
      "City 553 = raga\n",
      "City 554 = bavleny\n",
      "City 555 = gvarv\n",
      "City 556 = nishihara\n",
      "City 557 = den helder\n",
      "City 558 = olean\n",
      "City 559 = koupela\n",
      "City 560 = kruisfontein\n",
      "City 561 = san andres\n",
      "City 562 = valparaiso\n",
      "City 563 = meyungs\n",
      "No city found.\n",
      "City 564 = toulepleu\n",
      "No city found.\n",
      "City 565 = vardo\n",
      "City 566 = bardiyah\n",
      "City 567 = sharjah\n",
      "City 568 = shenzhen\n",
      "City 569 = severnoye\n",
      "City 570 = werda\n",
      "City 571 = agadez\n",
      "City 572 = kanor\n",
      "City 573 = qasigiannguit\n",
      "City 574 = muqui\n",
      "City 575 = olga\n",
      "City 576 = sur\n",
      "City 577 = san juan\n",
      "City 578 = kiunga\n",
      "City 579 = bubaque\n",
      "City 580 = villacarrillo\n",
      "City 581 = ola\n",
      "City 582 = maldonado\n",
      "City 583 = carson city\n",
      "City 584 = tual\n",
      "City 585 = gujan-mestras\n",
      "City 586 = galiwinku\n",
      "No city found.\n",
      "City 587 = anadyr\n",
      "City 588 = shieli\n",
      "City 589 = batamshinskiy\n",
      "City 590 = biltine\n",
      "City 591 = xining\n",
      "City 592 = hay river\n",
      "City 593 = imbituba\n",
      "City 594 = chulman\n",
      "City 595 = ekpoma\n",
      "City 596 = padang\n",
      "City 597 = zachagansk\n",
      "No city found.\n",
      "City 598 = chichihualco\n",
      "City 599 = luanda\n",
      "City 600 = medicine hat\n",
      "City 601 = matara\n",
      "City 602 = alexandria\n",
      "City 603 = geresk\n",
      "No city found.\n",
      "City 604 = xuanwu\n",
      "City 605 = omsukchan\n",
      "City 606 = pervoye maya\n",
      "City 607 = sicamous\n",
      "City 608 = konya\n",
      "City 609 = mogadishu\n",
      "City 610 = carutapera\n",
      "City 611 = matrei\n",
      "No city found.\n",
      "City 612 = sedelnikovo\n",
      "No city found.\n",
      "City 613 = bud\n",
      "City 614 = north platte\n",
      "City 615 = xuddur\n",
      "City 616 = blantyre\n",
      "City 617 = presidencia roque saenz pena\n"
     ]
    }
   ],
   "source": [
    "# OpenWeatherMap API URL\n",
    "url = \"http://api.openweathermap.org/data/2.5/weather?&appid=\" + weather_api_key \n",
    "\n",
    "# Empty list to hold city information\n",
    "city_list = []\n",
    "\n",
    "# city counter\n",
    "city_count = 1\n",
    "\n",
    "# for loop to check all cities\n",
    "for i, city in enumerate(cities):\n",
    "\n",
    "    # City URL to check\n",
    "    city_url = url + \"&q=\" + city\n",
    "    \n",
    "    # print somthing to make sure its working\n",
    "    print(\"City %s = %s\" % (city_count, city))\n",
    "\n",
    "    # increase city count\n",
    "    city_count += 1\n",
    "\n",
    "    # Run an API request for each of the cities\n",
    "    try:\n",
    "        # Parse the JSON and retrieve data\n",
    "        city_weather = requests.get(city_url).json()\n",
    "\n",
    "        # Parse out the max temp, humidity, and cloudiness\n",
    "        city_lat = city_weather[\"coord\"][\"lat\"]\n",
    "        city_lng = city_weather[\"coord\"][\"lon\"]\n",
    "        city_max_temp = city_weather[\"main\"][\"temp_max\"]\n",
    "        city_humidity = city_weather[\"main\"][\"humidity\"]\n",
    "        city_clouds = city_weather[\"clouds\"][\"all\"]\n",
    "        city_wind = city_weather[\"wind\"][\"speed\"]\n",
    "        city_country = city_weather[\"sys\"][\"country\"]\n",
    "        city_date = city_weather[\"dt\"]\n",
    "\n",
    "        # Append the City information into city_data list\n",
    "        city_list.append({\"City\": city, \n",
    "                          \"Lat\": city_lat, \n",
    "                          \"Lng\": city_lng, \n",
    "                          \"Max Temp\": city_max_temp,\n",
    "                          \"Humidity\": city_humidity,\n",
    "                          \"Cloudiness\": city_clouds,\n",
    "                          \"Wind Speed\": city_wind,\n",
    "                          \"Country\": city_country,\n",
    "                          \"Date\": city_date})\n",
    "\n",
    "    # If no city found\n",
    "    except:\n",
    "        print(\"No city found.\")\n",
    "        pass       \n",
    "        "
   ]
  },
  {
   "cell_type": "markdown",
   "metadata": {},
   "source": [
    "### Convert Raw Data to DataFrame\n",
    "* Export the city data into a .csv.\n",
    "* Display the DataFrame"
   ]
  },
  {
   "cell_type": "code",
   "execution_count": 5,
   "metadata": {},
   "outputs": [
    {
     "data": {
      "text/html": [
       "<div>\n",
       "<style scoped>\n",
       "    .dataframe tbody tr th:only-of-type {\n",
       "        vertical-align: middle;\n",
       "    }\n",
       "\n",
       "    .dataframe tbody tr th {\n",
       "        vertical-align: top;\n",
       "    }\n",
       "\n",
       "    .dataframe thead th {\n",
       "        text-align: right;\n",
       "    }\n",
       "</style>\n",
       "<table border=\"1\" class=\"dataframe\">\n",
       "  <thead>\n",
       "    <tr style=\"text-align: right;\">\n",
       "      <th></th>\n",
       "      <th>City</th>\n",
       "      <th>Lat</th>\n",
       "      <th>Lng</th>\n",
       "      <th>Max Temp</th>\n",
       "      <th>Humidity</th>\n",
       "      <th>Cloudiness</th>\n",
       "      <th>Wind Speed</th>\n",
       "      <th>Country</th>\n",
       "      <th>Date</th>\n",
       "    </tr>\n",
       "  </thead>\n",
       "  <tbody>\n",
       "    <tr>\n",
       "      <th>0</th>\n",
       "      <td>qaanaaq</td>\n",
       "      <td>77.48</td>\n",
       "      <td>-69.36</td>\n",
       "      <td>272.75</td>\n",
       "      <td>82</td>\n",
       "      <td>0</td>\n",
       "      <td>2.11</td>\n",
       "      <td>GL</td>\n",
       "      <td>1599069762</td>\n",
       "    </tr>\n",
       "    <tr>\n",
       "      <th>1</th>\n",
       "      <td>mahebourg</td>\n",
       "      <td>-20.41</td>\n",
       "      <td>57.70</td>\n",
       "      <td>294.15</td>\n",
       "      <td>88</td>\n",
       "      <td>40</td>\n",
       "      <td>2.10</td>\n",
       "      <td>MU</td>\n",
       "      <td>1599069762</td>\n",
       "    </tr>\n",
       "    <tr>\n",
       "      <th>2</th>\n",
       "      <td>kurilsk</td>\n",
       "      <td>45.23</td>\n",
       "      <td>147.88</td>\n",
       "      <td>287.21</td>\n",
       "      <td>89</td>\n",
       "      <td>30</td>\n",
       "      <td>4.57</td>\n",
       "      <td>RU</td>\n",
       "      <td>1599069762</td>\n",
       "    </tr>\n",
       "    <tr>\n",
       "      <th>3</th>\n",
       "      <td>bang yai</td>\n",
       "      <td>13.84</td>\n",
       "      <td>100.36</td>\n",
       "      <td>304.26</td>\n",
       "      <td>78</td>\n",
       "      <td>20</td>\n",
       "      <td>3.10</td>\n",
       "      <td>TH</td>\n",
       "      <td>1599069762</td>\n",
       "    </tr>\n",
       "    <tr>\n",
       "      <th>4</th>\n",
       "      <td>champerico</td>\n",
       "      <td>14.30</td>\n",
       "      <td>-91.92</td>\n",
       "      <td>304.15</td>\n",
       "      <td>66</td>\n",
       "      <td>20</td>\n",
       "      <td>4.10</td>\n",
       "      <td>GT</td>\n",
       "      <td>1599069762</td>\n",
       "    </tr>\n",
       "  </tbody>\n",
       "</table>\n",
       "</div>"
      ],
      "text/plain": [
       "         City    Lat     Lng  Max Temp  Humidity  Cloudiness  Wind Speed  \\\n",
       "0     qaanaaq  77.48  -69.36    272.75        82           0        2.11   \n",
       "1   mahebourg -20.41   57.70    294.15        88          40        2.10   \n",
       "2     kurilsk  45.23  147.88    287.21        89          30        4.57   \n",
       "3    bang yai  13.84  100.36    304.26        78          20        3.10   \n",
       "4  champerico  14.30  -91.92    304.15        66          20        4.10   \n",
       "\n",
       "  Country        Date  \n",
       "0      GL  1599069762  \n",
       "1      MU  1599069762  \n",
       "2      RU  1599069762  \n",
       "3      TH  1599069762  \n",
       "4      GT  1599069762  "
      ]
     },
     "execution_count": 5,
     "metadata": {},
     "output_type": "execute_result"
    }
   ],
   "source": [
    "# make list into a dataframe\n",
    "city_df = pd.DataFrame(city_list)\n",
    "city_df.head()"
   ]
  },
  {
   "cell_type": "markdown",
   "metadata": {},
   "source": [
    "## Inspect the data and remove the cities where the humidity > 100%.\n",
    "----\n",
    "Skip this step if there are no cities that have humidity > 100%. "
   ]
  },
  {
   "cell_type": "code",
   "execution_count": 6,
   "metadata": {},
   "outputs": [
    {
     "data": {
      "text/html": [
       "<div>\n",
       "<style scoped>\n",
       "    .dataframe tbody tr th:only-of-type {\n",
       "        vertical-align: middle;\n",
       "    }\n",
       "\n",
       "    .dataframe tbody tr th {\n",
       "        vertical-align: top;\n",
       "    }\n",
       "\n",
       "    .dataframe thead th {\n",
       "        text-align: right;\n",
       "    }\n",
       "</style>\n",
       "<table border=\"1\" class=\"dataframe\">\n",
       "  <thead>\n",
       "    <tr style=\"text-align: right;\">\n",
       "      <th></th>\n",
       "      <th>City</th>\n",
       "      <th>Lat</th>\n",
       "      <th>Lng</th>\n",
       "      <th>Max Temp</th>\n",
       "      <th>Humidity</th>\n",
       "      <th>Cloudiness</th>\n",
       "      <th>Wind Speed</th>\n",
       "      <th>Country</th>\n",
       "      <th>Date</th>\n",
       "    </tr>\n",
       "  </thead>\n",
       "  <tbody>\n",
       "  </tbody>\n",
       "</table>\n",
       "</div>"
      ],
      "text/plain": [
       "Empty DataFrame\n",
       "Columns: [City, Lat, Lng, Max Temp, Humidity, Cloudiness, Wind Speed, Country, Date]\n",
       "Index: []"
      ]
     },
     "execution_count": 6,
     "metadata": {},
     "output_type": "execute_result"
    }
   ],
   "source": [
    "# cities where humidity is 100% or more.\n",
    "high_humidity = city_df[(city_df[\"Humidity\"] > 100)]                                  \n",
    "high_humidity"
   ]
  },
  {
   "cell_type": "markdown",
   "metadata": {},
   "source": [
    "## Plotting the Data\n",
    "* Use proper labeling of the plots using plot titles (including date of analysis) and axes labels.\n",
    "* Save the plotted figures as .pngs."
   ]
  },
  {
   "cell_type": "code",
   "execution_count": 11,
   "metadata": {},
   "outputs": [],
   "source": [
    "# Graph for Laitiude against Maximum Temperature\n",
    "latitude = city_df[\"Lat\"]\n",
    "max_temp = city_df[\"Max Temp\"]\n",
    "humidity = city_df[\"Humidity\"]\n",
    "cloudiness = city_df[\"Cloudiness\"]\n",
    "wind_speed = city_df[\"Wind Speed\"]"
   ]
  },
  {
   "cell_type": "markdown",
   "metadata": {},
   "source": [
    "## Latitude vs. Temperature Plot"
   ]
  },
  {
   "cell_type": "code",
   "execution_count": 14,
   "metadata": {
    "scrolled": true
   },
   "outputs": [
    {
     "data": {
      "image/png": "[encoded data removed]",
      "text/plain": [
       "<Figure size 432x288 with 1 Axes>"
      ]
     },
     "metadata": {
      "needs_background": "light"
     },
     "output_type": "display_data"
    }
   ],
   "source": [
    "# Graph for Laitiude against Maximum Temperature\n",
    "latitude = city_df[\"Lat\"]\n",
    "max_temp = city_df[\"Max Temp\"]\n",
    "\n",
    "plt.scatter(latitude, max_temp, marker=\"o\")\n",
    "plt.ylabel(\"Temperature\")\n",
    "plt.xlabel(\"Latitude\")\n",
    "\n",
    "# save to output folder\n",
    "plt.savefig(\"output_data/Fig1.png\")\n",
    "\n",
    "# Show plot\n",
    "plt.show()"
   ]
  },
  {
   "cell_type": "markdown",
   "metadata": {},
   "source": [
    "## Latitude vs. Humidity Plot"
   ]
  },
  {
   "cell_type": "code",
   "execution_count": 15,
   "metadata": {},
   "outputs": [
    {
     "data": {
      "image/png": "[encoded data removed]",
      "text/plain": [
       "<Figure size 432x288 with 1 Axes>"
      ]
     },
     "metadata": {
      "needs_background": "light"
     },
     "output_type": "display_data"
    }
   ],
   "source": [
    "# Graph for Laitiude against Humidity\n",
    "latitude = city_df[\"Lat\"]\n",
    "humidity = city_df[\"Humidity\"]\n",
    "\n",
    "plt.scatter(latitude, humidity,marker=\"o\")\n",
    "plt.ylabel(\"Humidity\")\n",
    "plt.xlabel(\"Latitude\")\n",
    "\n",
    "# save to output folder\n",
    "plt.savefig(\"output_data/Fig2.png\")\n",
    "\n",
    "# Show plot\n",
    "plt.show()"
   ]
  },
  {
   "cell_type": "markdown",
   "metadata": {},
   "source": [
    "## Latitude vs. Cloudiness Plot"
   ]
  },
  {
   "cell_type": "code",
   "execution_count": 16,
   "metadata": {},
   "outputs": [
    {
     "data": {
      "image/png": "[encoded data removed]",
      "text/plain": [
       "<Figure size 432x288 with 1 Axes>"
      ]
     },
     "metadata": {
      "needs_background": "light"
     },
     "output_type": "display_data"
    }
   ],
   "source": [
    "# Graph for Laitiude against Cloudiness\n",
    "latitude = city_df[\"Lat\"]\n",
    "cloudiness = city_df[\"Cloudiness\"]\n",
    "\n",
    "plt.scatter(latitude, cloudiness, marker=\"o\")\n",
    "plt.ylabel(\"Cloudiness\")\n",
    "plt.xlabel(\"Latitude\")\n",
    "\n",
    "# save to output folder\n",
    "plt.savefig(\"output_data/Fig2.png\")\n",
    "\n",
    "# Show plot\n",
    "plt.show()"
   ]
  },
  {
   "cell_type": "markdown",
   "metadata": {},
   "source": [
    "## Latitude vs. Wind Speed Plot"
   ]
  },
  {
   "cell_type": "code",
   "execution_count": 17,
   "metadata": {},
   "outputs": [
    {
     "data": {
      "image/png": "[encoded data removed]",
      "text/plain": [
       "<Figure size 432x288 with 1 Axes>"
      ]
     },
     "metadata": {
      "needs_background": "light"
     },
     "output_type": "display_data"
    }
   ],
   "source": [
    "# Graph for Laitiude against Windspeed\n",
    "latitude = city_df[\"Lat\"]\n",
    "windspeed = city_df[\"Wind Speed\"]\n",
    "\n",
    "plt.scatter(latitude, windspeed, marker=\"o\")\n",
    "plt.ylabel(\"Windspeed\")\n",
    "plt.xlabel(\"Latitude\")\n",
    "\n",
    "# save to output folder\n",
    "plt.savefig(\"output_data/Fig2.png\")\n",
    "\n",
    "# Show plot\n",
    "plt.show()"
   ]
  },
  {
   "cell_type": "code",
   "execution_count": 18,
   "metadata": {},
   "outputs": [],
   "source": [
    "# Create Northern and Southern Hemisphere DataFrames\n",
    "# Create Northern and Southern Hemisphere DataFrames\n",
    "northern_hemi_df = city_df.loc[(city_df[\"Lat\"] >= 0)]\n",
    "southern_hemi_df = city_df.loc[(city_df[\"Lat\"] < 0)]"
   ]
  },
  {
   "cell_type": "code",
   "execution_count": 19,
   "metadata": {},
   "outputs": [
    {
     "data": {
      "text/html": [
       "<div>\n",
       "<style scoped>\n",
       "    .dataframe tbody tr th:only-of-type {\n",
       "        vertical-align: middle;\n",
       "    }\n",
       "\n",
       "    .dataframe tbody tr th {\n",
       "        vertical-align: top;\n",
       "    }\n",
       "\n",
       "    .dataframe thead th {\n",
       "        text-align: right;\n",
       "    }\n",
       "</style>\n",
       "<table border=\"1\" class=\"dataframe\">\n",
       "  <thead>\n",
       "    <tr style=\"text-align: right;\">\n",
       "      <th></th>\n",
       "      <th>City</th>\n",
       "      <th>Lat</th>\n",
       "      <th>Lng</th>\n",
       "      <th>Max Temp</th>\n",
       "      <th>Humidity</th>\n",
       "      <th>Cloudiness</th>\n",
       "      <th>Wind Speed</th>\n",
       "      <th>Country</th>\n",
       "      <th>Date</th>\n",
       "    </tr>\n",
       "  </thead>\n",
       "  <tbody>\n",
       "    <tr>\n",
       "      <th>0</th>\n",
       "      <td>qaanaaq</td>\n",
       "      <td>77.48</td>\n",
       "      <td>-69.36</td>\n",
       "      <td>272.75</td>\n",
       "      <td>82</td>\n",
       "      <td>0</td>\n",
       "      <td>2.11</td>\n",
       "      <td>GL</td>\n",
       "      <td>1599069762</td>\n",
       "    </tr>\n",
       "    <tr>\n",
       "      <th>2</th>\n",
       "      <td>kurilsk</td>\n",
       "      <td>45.23</td>\n",
       "      <td>147.88</td>\n",
       "      <td>287.21</td>\n",
       "      <td>89</td>\n",
       "      <td>30</td>\n",
       "      <td>4.57</td>\n",
       "      <td>RU</td>\n",
       "      <td>1599069762</td>\n",
       "    </tr>\n",
       "    <tr>\n",
       "      <th>3</th>\n",
       "      <td>bang yai</td>\n",
       "      <td>13.84</td>\n",
       "      <td>100.36</td>\n",
       "      <td>304.26</td>\n",
       "      <td>78</td>\n",
       "      <td>20</td>\n",
       "      <td>3.10</td>\n",
       "      <td>TH</td>\n",
       "      <td>1599069762</td>\n",
       "    </tr>\n",
       "    <tr>\n",
       "      <th>4</th>\n",
       "      <td>champerico</td>\n",
       "      <td>14.30</td>\n",
       "      <td>-91.92</td>\n",
       "      <td>304.15</td>\n",
       "      <td>66</td>\n",
       "      <td>20</td>\n",
       "      <td>4.10</td>\n",
       "      <td>GT</td>\n",
       "      <td>1599069762</td>\n",
       "    </tr>\n",
       "    <tr>\n",
       "      <th>5</th>\n",
       "      <td>pevek</td>\n",
       "      <td>69.70</td>\n",
       "      <td>170.31</td>\n",
       "      <td>275.03</td>\n",
       "      <td>91</td>\n",
       "      <td>97</td>\n",
       "      <td>2.53</td>\n",
       "      <td>RU</td>\n",
       "      <td>1599069490</td>\n",
       "    </tr>\n",
       "  </tbody>\n",
       "</table>\n",
       "</div>"
      ],
      "text/plain": [
       "         City    Lat     Lng  Max Temp  Humidity  Cloudiness  Wind Speed  \\\n",
       "0     qaanaaq  77.48  -69.36    272.75        82           0        2.11   \n",
       "2     kurilsk  45.23  147.88    287.21        89          30        4.57   \n",
       "3    bang yai  13.84  100.36    304.26        78          20        3.10   \n",
       "4  champerico  14.30  -91.92    304.15        66          20        4.10   \n",
       "5       pevek  69.70  170.31    275.03        91          97        2.53   \n",
       "\n",
       "  Country        Date  \n",
       "0      GL  1599069762  \n",
       "2      RU  1599069762  \n",
       "3      TH  1599069762  \n",
       "4      GT  1599069762  \n",
       "5      RU  1599069490  "
      ]
     },
     "execution_count": 19,
     "metadata": {},
     "output_type": "execute_result"
    }
   ],
   "source": [
    "northern_hemi_df.head()"
   ]
  },
  {
   "cell_type": "code",
   "execution_count": 20,
   "metadata": {},
   "outputs": [
    {
     "data": {
      "text/html": [
       "<div>\n",
       "<style scoped>\n",
       "    .dataframe tbody tr th:only-of-type {\n",
       "        vertical-align: middle;\n",
       "    }\n",
       "\n",
       "    .dataframe tbody tr th {\n",
       "        vertical-align: top;\n",
       "    }\n",
       "\n",
       "    .dataframe thead th {\n",
       "        text-align: right;\n",
       "    }\n",
       "</style>\n",
       "<table border=\"1\" class=\"dataframe\">\n",
       "  <thead>\n",
       "    <tr style=\"text-align: right;\">\n",
       "      <th></th>\n",
       "      <th>City</th>\n",
       "      <th>Lat</th>\n",
       "      <th>Lng</th>\n",
       "      <th>Max Temp</th>\n",
       "      <th>Humidity</th>\n",
       "      <th>Cloudiness</th>\n",
       "      <th>Wind Speed</th>\n",
       "      <th>Country</th>\n",
       "      <th>Date</th>\n",
       "    </tr>\n",
       "  </thead>\n",
       "  <tbody>\n",
       "    <tr>\n",
       "      <th>1</th>\n",
       "      <td>mahebourg</td>\n",
       "      <td>-20.41</td>\n",
       "      <td>57.70</td>\n",
       "      <td>294.15</td>\n",
       "      <td>88</td>\n",
       "      <td>40</td>\n",
       "      <td>2.10</td>\n",
       "      <td>MU</td>\n",
       "      <td>1599069762</td>\n",
       "    </tr>\n",
       "    <tr>\n",
       "      <th>6</th>\n",
       "      <td>rikitea</td>\n",
       "      <td>-23.12</td>\n",
       "      <td>-134.97</td>\n",
       "      <td>294.08</td>\n",
       "      <td>80</td>\n",
       "      <td>89</td>\n",
       "      <td>9.92</td>\n",
       "      <td>PF</td>\n",
       "      <td>1599069763</td>\n",
       "    </tr>\n",
       "    <tr>\n",
       "      <th>9</th>\n",
       "      <td>tuatapere</td>\n",
       "      <td>-46.13</td>\n",
       "      <td>167.68</td>\n",
       "      <td>278.04</td>\n",
       "      <td>79</td>\n",
       "      <td>100</td>\n",
       "      <td>2.66</td>\n",
       "      <td>NZ</td>\n",
       "      <td>1599069764</td>\n",
       "    </tr>\n",
       "    <tr>\n",
       "      <th>10</th>\n",
       "      <td>ushuaia</td>\n",
       "      <td>-54.80</td>\n",
       "      <td>-68.30</td>\n",
       "      <td>277.15</td>\n",
       "      <td>69</td>\n",
       "      <td>75</td>\n",
       "      <td>0.62</td>\n",
       "      <td>AR</td>\n",
       "      <td>1599069529</td>\n",
       "    </tr>\n",
       "    <tr>\n",
       "      <th>15</th>\n",
       "      <td>busselton</td>\n",
       "      <td>-33.65</td>\n",
       "      <td>115.33</td>\n",
       "      <td>286.48</td>\n",
       "      <td>53</td>\n",
       "      <td>100</td>\n",
       "      <td>5.48</td>\n",
       "      <td>AU</td>\n",
       "      <td>1599069765</td>\n",
       "    </tr>\n",
       "  </tbody>\n",
       "</table>\n",
       "</div>"
      ],
      "text/plain": [
       "         City    Lat     Lng  Max Temp  Humidity  Cloudiness  Wind Speed  \\\n",
       "1   mahebourg -20.41   57.70    294.15        88          40        2.10   \n",
       "6     rikitea -23.12 -134.97    294.08        80          89        9.92   \n",
       "9   tuatapere -46.13  167.68    278.04        79         100        2.66   \n",
       "10    ushuaia -54.80  -68.30    277.15        69          75        0.62   \n",
       "15  busselton -33.65  115.33    286.48        53         100        5.48   \n",
       "\n",
       "   Country        Date  \n",
       "1       MU  1599069762  \n",
       "6       PF  1599069763  \n",
       "9       NZ  1599069764  \n",
       "10      AR  1599069529  \n",
       "15      AU  1599069765  "
      ]
     },
     "execution_count": 20,
     "metadata": {},
     "output_type": "execute_result"
    }
   ],
   "source": [
    "southern_hemi_df.head()"
   ]
  },
  {
   "cell_type": "markdown",
   "metadata": {},
   "source": [
    "####  Northern Hemisphere - Max Temp vs. Latitude Linear Regression"
   ]
  },
  {
   "cell_type": "code",
   "execution_count": 50,
   "metadata": {},
   "outputs": [],
   "source": [
    "# Create a function to create Linear Regression plots\n",
    "def plot_linear_regression(x_values, y_values, title, text_coordinates):\n",
    "    \n",
    "    # Run regresson on southern hemisphere\n",
    "    (slope, intercept, rvalue, pvalue, stderr) = linregress(x_values, y_values)\n",
    "    regress_values = x_values * slope + intercept\n",
    "    line_eq = \"y = \" + str(round(slope,2)) + \"x + \" + str(round(intercept,2))\n",
    "\n",
    "    # Plot\n",
    "    plt.scatter(x_values,y_values)\n",
    "    plt.plot(x_values,regress_values,\"r-\")\n",
    "    plt.annotate(line_eq,text_coordinates,fontsize=15,color=\"red\")\n",
    "    plt.xlabel('Latitude')\n",
    "    plt.ylabel(title)\n",
    "    print(f\"The r-squared is: {rvalue**2}\")\n",
    "    plt.show()\n",
    "    \n",
    "    \n"
   ]
  },
  {
   "cell_type": "code",
   "execution_count": 64,
   "metadata": {},
   "outputs": [
    {
     "name": "stdout",
     "output_type": "stream",
     "text": [
      "The r-squared is: 0.6218029957256844\n"
     ]
    },
    {
     "data": {
      "image/png": "[encoded data removed]",
      "text/plain": [
       "<Figure size 432x288 with 1 Axes>"
      ]
     },
     "metadata": {
      "needs_background": "light"
     },
     "output_type": "display_data"
    }
   ],
   "source": [
    "# Linear regression on Northern Hemisphere\n",
    "x_values = northern_hemi_df[\"Lat\"]\n",
    "y_values = northern_hemi_df[\"Max Temp\"]\n",
    "plot_linear_regression(x_values, y_values, 'Humidity',(0,0))"
   ]
  },
  {
   "cell_type": "markdown",
   "metadata": {},
   "source": [
    "####  Southern Hemisphere - Max Temp vs. Latitude Linear Regression"
   ]
  },
  {
   "cell_type": "code",
   "execution_count": 65,
   "metadata": {},
   "outputs": [
    {
     "name": "stdout",
     "output_type": "stream",
     "text": [
      "The r-squared is: 0.599298894577839\n"
     ]
    },
    {
     "data": {
      "image/png": "[encoded data removed]",
      "text/plain": [
       "<Figure size 432x288 with 1 Axes>"
      ]
     },
     "metadata": {
      "needs_background": "light"
     },
     "output_type": "display_data"
    }
   ],
   "source": [
    "# Linear regression on Southern Hemisphere\n",
    "x_values = southern_hemi_df[\"Lat\"]\n",
    "y_values = southern_hemi_df[\"Max Temp\"]\n",
    "plot_linear_regression(x_values, y_values, 'Humidity',(40,10))"
   ]
  },
  {
   "cell_type": "markdown",
   "metadata": {},
   "source": [
    "####  Northern Hemisphere - Humidity (%) vs. Latitude Linear Regression"
   ]
  },
  {
   "cell_type": "code",
   "execution_count": 68,
   "metadata": {},
   "outputs": [
    {
     "name": "stdout",
     "output_type": "stream",
     "text": [
      "The r-squared is: 0.00467207644580236\n"
     ]
    },
    {
     "data": {
      "image/png": "[encoded data removed]",
      "text/plain": [
       "<Figure size 432x288 with 1 Axes>"
      ]
     },
     "metadata": {
      "needs_background": "light"
     },
     "output_type": "display_data"
    }
   ],
   "source": [
    "# Northern Hemisphere Humidity vs Lat\n",
    "x_values = northern_hemi_df[\"Lat\"]\n",
    "y_values = northern_hemi_df[\"Humidity\"]\n",
    "plot_linear_regression(x_values, y_values, 'Humidity',(0,0))"
   ]
  },
  {
   "cell_type": "markdown",
   "metadata": {},
   "source": [
    "####  Southern Hemisphere - Humidity (%) vs. Latitude Linear Regression"
   ]
  },
  {
   "cell_type": "code",
   "execution_count": 70,
   "metadata": {},
   "outputs": [
    {
     "name": "stdout",
     "output_type": "stream",
     "text": [
      "The r-squared is: 0.01404339541151751\n"
     ]
    },
    {
     "data": {
      "image/png": "[encoded data removed]",
      "text/plain": [
       "<Figure size 432x288 with 1 Axes>"
      ]
     },
     "metadata": {
      "needs_background": "light"
     },
     "output_type": "display_data"
    }
   ],
   "source": [
    "# Southern Hemisphere Humidity vs Lat\n",
    "x_values = southern_hemi_df[\"Lat\"]\n",
    "y_values = southern_hemi_df[\"Humidity\"]\n",
    "plot_linear_regression(x_values, y_values, 'Humidity', (0, 0))"
   ]
  },
  {
   "cell_type": "markdown",
   "metadata": {},
   "source": [
    "####  Northern Hemisphere - Cloudiness (%) vs. Latitude Linear Regression"
   ]
  },
  {
   "cell_type": "code",
   "execution_count": 71,
   "metadata": {},
   "outputs": [
    {
     "name": "stdout",
     "output_type": "stream",
     "text": [
      "The r-squared is: 0.010272807881664271\n"
     ]
    },
    {
     "data": {
      "image/png": "[encoded data removed]",
      "text/plain": [
       "<Figure size 432x288 with 1 Axes>"
      ]
     },
     "metadata": {
      "needs_background": "light"
     },
     "output_type": "display_data"
    }
   ],
   "source": [
    "# Northern Hemisphere Cloudiness vs Lat\n",
    "x_values = northern_hemi_df[\"Lat\"]\n",
    "y_values = northern_hemi_df[\"Cloudiness\"]\n",
    "plot_linear_regression(x_values, y_values, 'Cloudiness', (0,0))"
   ]
  },
  {
   "cell_type": "markdown",
   "metadata": {},
   "source": [
    "####  Southern Hemisphere - Cloudiness (%) vs. Latitude Linear Regression"
   ]
  },
  {
   "cell_type": "code",
   "execution_count": 72,
   "metadata": {},
   "outputs": [
    {
     "name": "stdout",
     "output_type": "stream",
     "text": [
      "The r-squared is: 0.002655006555601724\n"
     ]
    },
    {
     "data": {
      "image/png": "[encoded data removed]",
      "text/plain": [
       "<Figure size 432x288 with 1 Axes>"
      ]
     },
     "metadata": {
      "needs_background": "light"
     },
     "output_type": "display_data"
    }
   ],
   "source": [
    "# Southern Hemisphere Cloudiness vs Lat\n",
    "x_values = southern_hemi_df[\"Lat\"]\n",
    "y_values = southern_hemi_df[\"Cloudiness\"]\n",
    "plot_linear_regression(x_values, y_values, 'Cloudiness', (0,0))"
   ]
  },
  {
   "cell_type": "markdown",
   "metadata": {},
   "source": [
    "####  Northern Hemisphere - Wind Speed (mph) vs. Latitude Linear Regression"
   ]
  },
  {
   "cell_type": "code",
   "execution_count": 73,
   "metadata": {},
   "outputs": [
    {
     "name": "stdout",
     "output_type": "stream",
     "text": [
      "The r-squared is: 0.002407559774734427\n"
     ]
    },
    {
     "data": {
      "image/png": "[encoded data removed]",
      "text/plain": [
       "<Figure size 432x288 with 1 Axes>"
      ]
     },
     "metadata": {
      "needs_background": "light"
     },
     "output_type": "display_data"
    }
   ],
   "source": [
    "# Northern Hemisphere\n",
    "x_values = northern_hemi_df[\"Lat\"]\n",
    "y_values = northern_hemi_df[\"Wind Speed\"]\n",
    "plot_linear_regression(x_values, y_values, 'Wind Speed', (0,0))"
   ]
  },
  {
   "cell_type": "markdown",
   "metadata": {},
   "source": [
    "####  Southern Hemisphere - Wind Speed (mph) vs. Latitude Linear Regression"
   ]
  },
  {
   "cell_type": "code",
   "execution_count": 74,
   "metadata": {},
   "outputs": [
    {
     "name": "stdout",
     "output_type": "stream",
     "text": [
      "The r-squared is: 0.01003373234961034\n"
     ]
    },
    {
     "data": {
      "image/png": "[encoded data removed]",
      "text/plain": [
       "<Figure size 432x288 with 1 Axes>"
      ]
     },
     "metadata": {
      "needs_background": "light"
     },
     "output_type": "display_data"
    }
   ],
   "source": [
    "# Southern Hemisphere\n",
    "x_values = southern_hemi_df[\"Lat\"]\n",
    "y_values = southern_hemi_df[\"Wind Speed\"]\n",
    "plot_linear_regression(x_values, y_values, 'Wind Speed', (0, 0))"
   ]
  },
  {
   "cell_type": "code",
   "execution_count": null,
   "metadata": {},
   "outputs": [],
   "source": []
  }
 ],
 "metadata": {
  "anaconda-cloud": {},
  "kernel_info": {
   "name": "python3"
  },
  "kernelspec": {
   "display_name": "Python 3",
   "language": "python",
   "name": "python3"
  },
  "language_info": {
   "codemirror_mode": {
    "name": "ipython",
    "version": 3
   },
   "file_extension": ".py",
   "mimetype": "text/x-python",
   "name": "python",
   "nbconvert_exporter": "python",
   "pygments_lexer": "ipython3",
   "version": "3.7.6"
  },
  "latex_envs": {
   "LaTeX_envs_menu_present": true,
   "autoclose": false,
   "autocomplete": true,
   "bibliofile": "biblio.bib",
   "cite_by": "apalike",
   "current_citInitial": 1,
   "eqLabelWithNumbers": true,
   "eqNumInitial": 1,
   "hotkeys": {
    "equation": "Ctrl-E",
    "itemize": "Ctrl-I"
   },
   "labels_anchors": false,
   "latex_user_defs": false,
   "report_style_numbering": false,
   "user_envs_cfg": false
  },
  "nteract": {
   "version": "0.12.3"
  }
 },
 "nbformat": 4,
 "nbformat_minor": 4
}
